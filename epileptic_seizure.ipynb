{
 "cells": [
  {
   "cell_type": "markdown",
   "metadata": {},
   "source": [
    "# Epileptic Seizure Predictor"
   ]
  },
  {
   "cell_type": "code",
   "execution_count": 1,
   "metadata": {},
   "outputs": [],
   "source": [
    "import numpy as np\n",
    "import pandas as pd\n",
    "%matplotlib inline"
   ]
  },
  {
   "cell_type": "code",
   "execution_count": 2,
   "metadata": {},
   "outputs": [
    {
     "name": "stdout",
     "output_type": "stream",
     "text": [
      "[1 2 3 4 5]\n"
     ]
    },
    {
     "data": {
      "text/plain": [
       "<matplotlib.axes._subplots.AxesSubplot at 0x122f6a9b7b8>"
      ]
     },
     "execution_count": 2,
     "metadata": {},
     "output_type": "execute_result"
    },
    {
     "data": {
      "image/png": "[encoded data removed]",
      "text/plain": [
       "<Figure size 432x288 with 1 Axes>"
      ]
     },
     "metadata": {},
     "output_type": "display_data"
    }
   ],
   "source": [
    "df = pd.read_csv(\"data.csv\") \n",
    "\n",
    "print(np.unique(df['y']))\n",
    "df.X1.plot()"
   ]
  },
  {
   "cell_type": "markdown",
   "metadata": {},
   "source": [
    "Se auto to simeio prepei na kanoume eksagogi twn xaraktiristikwn (features extraction). Skopos mas einai na provlepsoume ena xaraktiristiko \"label\", pou stin periptosi mas einai epilipsia i oxi, mesa apo kapoia xaraktiristika. As doume stin sunexeia.."
   ]
  },
  {
   "cell_type": "code",
   "execution_count": 3,
   "metadata": {},
   "outputs": [
    {
     "name": "stdout",
     "output_type": "stream",
     "text": [
      "Feature Length: 11500 \n",
      "Labels Length: 11500\n"
     ]
    }
   ],
   "source": [
    "features = [] \n",
    "labels = [] \n",
    "\n",
    "for ind, data in df.iterrows():\n",
    "    to_pass = [float(i) for i in data[1:]] \n",
    "    features.append(to_pass)\n",
    "\n",
    "labels = df['y'].tolist()\n",
    "print(\"Feature Length: \"+ str(len(features)) + \" \\nLabels Length: \" + str(len(labels))) \n",
    "    "
   ]
  },
  {
   "cell_type": "code",
   "execution_count": 4,
   "metadata": {},
   "outputs": [],
   "source": [
    "from sklearn.tree import DecisionTreeClassifier \n",
    "from sklearn.svm import SVC\n",
    "from sklearn.model_selection import train_test_split"
   ]
  },
  {
   "cell_type": "code",
   "execution_count": 5,
   "metadata": {},
   "outputs": [
    {
     "name": "stdout",
     "output_type": "stream",
     "text": [
      "Decision Tree Accuracy: 1.0 SVM Accuracy: 0.19269565217391305\n"
     ]
    }
   ],
   "source": [
    "train_x, test_x, train_y, test_y = train_test_split(features, labels, random_state=42) \n",
    "\n",
    "model1 = DecisionTreeClassifier()\n",
    "model1.fit(train_x, train_y)\n",
    "model2 = SVC(kernel='rbf')\n",
    "model2.fit(train_x, train_y)\n",
    "\n",
    "model1_acc = model1.score(test_x, test_y)\n",
    "model2_acc = model2.score(test_x, test_y)\n",
    "\n",
    "print(\"Decision Tree Accuracy: {} SVM Accuracy: {}\".format(model1_acc, model2_acc))"
   ]
  },
  {
   "cell_type": "code",
   "execution_count": null,
   "metadata": {
    "collapsed": true
   },
   "outputs": [],
   "source": []
  },
  {
   "cell_type": "code",
   "execution_count": null,
   "metadata": {
    "collapsed": true
   },
   "outputs": [],
   "source": []
  }
 ],
 "metadata": {
  "kernelspec": {
   "display_name": "Python 3",
   "language": "python",
   "name": "python3"
  },
  "language_info": {
   "codemirror_mode": {
    "name": "ipython",
    "version": 3
   },
   "file_extension": ".py",
   "mimetype": "text/x-python",
   "name": "python",
   "nbconvert_exporter": "python",
   "pygments_lexer": "ipython3",
   "version": "3.6.8"
  }
 },
 "nbformat": 4,
 "nbformat_minor": 2
}
